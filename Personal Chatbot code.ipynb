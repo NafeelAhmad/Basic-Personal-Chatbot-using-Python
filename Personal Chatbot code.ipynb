{
  "nbformat": 4,
  "nbformat_minor": 0,
  "metadata": {
    "colab": {
      "provenance": []
    },
    "kernelspec": {
      "name": "python3",
      "display_name": "Python 3"
    },
    "language_info": {
      "name": "python"
    }
  },
  "cells": [
    {
      "cell_type": "code",
      "source": [
        "pip install nltk"
      ],
      "metadata": {
        "colab": {
          "base_uri": "https://localhost:8080/"
        },
        "id": "Ceb_VDY8dj1-",
        "outputId": "a107c0bb-b621-4854-9b9a-357c323a3e15"
      },
      "execution_count": 2,
      "outputs": [
        {
          "output_type": "stream",
          "name": "stdout",
          "text": [
            "Requirement already satisfied: nltk in /usr/local/lib/python3.10/dist-packages (3.8.1)\n",
            "Requirement already satisfied: click in /usr/local/lib/python3.10/dist-packages (from nltk) (8.1.7)\n",
            "Requirement already satisfied: joblib in /usr/local/lib/python3.10/dist-packages (from nltk) (1.3.2)\n",
            "Requirement already satisfied: regex>=2021.8.3 in /usr/local/lib/python3.10/dist-packages (from nltk) (2023.12.25)\n",
            "Requirement already satisfied: tqdm in /usr/local/lib/python3.10/dist-packages (from nltk) (4.66.2)\n"
          ]
        }
      ]
    },
    {
      "cell_type": "code",
      "source": [
        "def parse_personal_info(personal_info):\n",
        "    info_dict = {}\n",
        "    lines = personal_info.split('\\n')\n",
        "    for line in lines:\n",
        "        if ':' in line:\n",
        "            key, value = line.split(':', 1)  # Limiting split to 1 occurrence\n",
        "            info_dict[key.strip()] = value.strip()\n",
        "    return info_dict\n",
        "\n",
        "def load_personal_info(file_path):\n",
        "    with open(file_path, 'r') as file:\n",
        "        personal_info = file.read()\n",
        "    return parse_personal_info(personal_info)\n",
        "\n",
        "def chatbot_response(query, personal_info):\n",
        "    # Convert the query to lowercase for case-insensitive matching\n",
        "    query = query.lower()\n",
        "\n",
        "    # Define intents and responses based on personal information\n",
        "    responses = {\n",
        "        \"name\": \"My name is {}.\".format(personal_info.get(\"Name\", \"John Doe\")),\n",
        "        \"age\": \"I am {} years old.\".format(personal_info.get(\"Age\", \"25\")),\n",
        "        \"occupation\": \"I am a {}.\".format(personal_info.get(\"Occupation\", \"software engineer\")),\n",
        "        \"hobbies\": \"I enjoy {}.\".format(personal_info.get(\"Hobbies\", \"reading, hiking, and playing guitar\")),\n",
        "        \"favorite food\": \"My favorite food is {}.\".format(personal_info.get(\"Favorite Food\", \"pizza\"))\n",
        "    }\n",
        "\n",
        "    # Check if the query matches any intent\n",
        "    for intent, response in responses.items():\n",
        "        if intent in query:\n",
        "            return response\n",
        "\n",
        "    # Default response if no intent is matched\n",
        "    return \"I'm sorry, I didn't understand your question.\"\n",
        "\n",
        "# Load personal information from the text file\n",
        "file_path = '/content/drive/MyDrive/Personal chatbot content.txt'\n",
        "personal_info = load_personal_info(file_path)\n",
        "\n",
        "# Test the chatbot\n",
        "user_query = input(\"You: \")\n",
        "response = chatbot_response(user_query, personal_info)\n",
        "print(\"Chatbot:\", response)\n"
      ],
      "metadata": {
        "colab": {
          "base_uri": "https://localhost:8080/"
        },
        "id": "JCJI4iwz03gf",
        "outputId": "87e777fc-f242-42e3-8233-f617ad97ef36"
      },
      "execution_count": 10,
      "outputs": [
        {
          "output_type": "stream",
          "name": "stdout",
          "text": [
            "You: name\n",
            "Chatbot: My name is Md. Nafeel Ahmad.\n"
          ]
        }
      ]
    }
  ]
}